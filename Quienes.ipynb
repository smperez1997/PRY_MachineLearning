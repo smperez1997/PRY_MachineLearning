{
  "nbformat": 4,
  "nbformat_minor": 0,
  "metadata": {
    "colab": {
      "name": "Quienes.ipynb",
      "provenance": [],
      "authorship_tag": "ABX9TyPkxREhCaVwMF7gw7AxFayb",
      "include_colab_link": true
    },
    "kernelspec": {
      "name": "python3",
      "display_name": "Python 3"
    }
  },
  "cells": [
    {
      "cell_type": "markdown",
      "metadata": {
        "id": "view-in-github",
        "colab_type": "text"
      },
      "source": [
        "<a href=\"https://colab.research.google.com/github/smperez1997/PRY_MachineLearning/blob/main/Quienes.ipynb\" target=\"_parent\"><img src=\"https://colab.research.google.com/assets/colab-badge.svg\" alt=\"Open In Colab\"/></a>"
      ]
    },
    {
      "cell_type": "code",
      "metadata": {
        "id": "1MtLjsyBodaL"
      },
      "source": [
        "#importar libreria\r\n",
        "import pandas as pd\r\n",
        "import numpy as np\r\n",
        "import matplotlib.pyplot as plt\r\n",
        "import sklearn\r\n"
      ],
      "execution_count": null,
      "outputs": []
    },
    {
      "cell_type": "code",
      "metadata": {
        "id": "luQhcMq50WC2"
      },
      "source": [
        "#importar datos\r\n",
        "quien =pd.read_csv(\"quienesquien.csv\")"
      ],
      "execution_count": 42,
      "outputs": []
    },
    {
      "cell_type": "code",
      "metadata": {
        "id": "OWmfbv1LzdrZ",
        "colab": {
          "base_uri": "https://localhost:8080/"
        },
        "outputId": "490aa7f3-1012-4661-ecac-ef5dec796ca1"
      },
      "source": [
        "# analizar datos \r\n",
        "#numero de filas y columnas del dataframe\r\n",
        "quien.shape"
      ],
      "execution_count": null,
      "outputs": [
        {
          "output_type": "execute_result",
          "data": {
            "text/plain": [
              "(26, 20)"
            ]
          },
          "metadata": {
            "tags": []
          },
          "execution_count": 22
        }
      ]
    },
    {
      "cell_type": "code",
      "metadata": {
        "id": "dceMuL5Ez7_V"
      },
      "source": [
        ""
      ],
      "execution_count": null,
      "outputs": []
    }
  ]
}